{
 "cells": [
  {
   "cell_type": "markdown",
   "metadata": {},
   "source": [
    "<div style=\"display: flex; background-color: RGB(255,114,0);\" >\n",
    "<h1 style=\"margin: auto; padding: 30px; \">ANALYSE DES VENTES D'UNE LIBRAIRIE</h1>\n",
    "</div>"
   ]
  },
  {
   "cell_type": "markdown",
   "metadata": {},
   "source": [
    "# OBJECTIF DE CE NOTEBOOK\n",
    "\n",
    "Bienvenue dans l'outil plébiscité par les analystes de données Jupyter.\n",
    "\n",
    "Il s'agit d'un outil permettant de mixer et d'alterner codes, textes et graphique.\n",
    "\n",
    "Cet outil est formidable pour plusieurs raisons:\n",
    "\n",
    "+ il permet de tester des lignes de codes au fur et à mesure de votre rédaction, de constater immédiatement le résultat d'un instruction, de la corriger si nécessaire.\n",
    "+ De rédiger du texte pour expliquer l'approche suivie ou les résultats d'une analyse et de le mettre en forme grâce à du code html ou plus simple avec **Markdown**\n",
    "+ d'agrémenter de graphiques\n",
    "\n",
    "Pour vous aider dans vos premiers pas à l'usage de Jupyter et de Python, nous avons rédigé ce notebook en vous indiquant les instructions à suivre.\n",
    "\n",
    "Il vous suffit pour cela de saisir le code Python répondant à l'instruction donnée.\n",
    "\n",
    "Vous verrez de temps à autre le code Python répondant à une instruction donnée mais cela est fait pour vous aider à comprendre la nature du travail qui vous est demandée.\n",
    "\n",
    "Et garder à l'esprit, qu'il n'y a pas de solution unique pour résoudre un problème et qu'il y a autant de résolutions de problèmes que de développeurs ;)...\n",
    "\n"
   ]
  },
  {
   "cell_type": "markdown",
   "metadata": {},
   "source": [
    "<div style=\"background-color: RGB(51,165,182);\" >\n",
    "<h2 style=\"margin: auto; padding: 20px; color:#fff; \">Etape 1 - Importation des librairies et chargement des fichiers</h2>\n",
    "</div>"
   ]
  },
  {
   "cell_type": "markdown",
   "metadata": {},
   "source": [
    "<div style=\"border: 1px solid RGB(51,165,182);\" >\n",
    "<h3 style=\"margin: auto; padding: 20px; color: RGB(51,165,182); \">1.1 - Importation des librairies</h3>\n",
    "</div>"
   ]
  },
  {
   "cell_type": "code",
   "execution_count": 4,
   "metadata": {},
   "outputs": [],
   "source": [
    "#Importation de la librairie Pandas\n",
    "import pandas as pd\n",
    "import matplotlib.pyplot as plt"
   ]
  },
  {
   "cell_type": "markdown",
   "metadata": {},
   "source": [
    "<div style=\"border: 1px solid RGB(51,165,182);\" >\n",
    "<h3 style=\"margin: auto; padding: 20px; color: RGB(51,165,182); \">1.2 - Chargements des fichiers</h3>\n",
    "</div>"
   ]
  },
  {
   "cell_type": "code",
   "execution_count": 6,
   "metadata": {},
   "outputs": [],
   "source": [
    "#Importation du fichier customers.csv\n",
    "df_customers = pd.read_csv(\"customers.csv\",header=0, sep = \";\")\n",
    "#Importation du fichier erp.xlsxproducts.csv\n",
    "df_products = pd.read_csv(\"products.csv\",header=0, sep = \";\")\n",
    "#importation du fichier Transactions.csv\n",
    "df_transactions = pd.read_csv(\"Transactions.csv\",header=0, sep = \";\")"
   ]
  },
  {
   "cell_type": "markdown",
   "metadata": {},
   "source": [
    "<div style=\"background-color: RGB(51,165,182);\" >\n",
    "<h2 style=\"margin: auto; padding: 20px; color:#fff; \">Etape 2 - Analyse exploratoire des fichiers</h2>\n",
    "</div>"
   ]
  },
  {
   "cell_type": "markdown",
   "metadata": {},
   "source": [
    "<div style=\"border: 1px solid RGB(51,165,182);\" >\n",
    "<h3 style=\"margin: auto; padding: 20px; color: RGB(51,165,182); \">2.1 - Analyse exploratoire du fichier customers.csv</h3>\n",
    "</div>"
   ]
  },
  {
   "cell_type": "code",
   "execution_count": 8,
   "metadata": {},
   "outputs": [
    {
     "name": "stdout",
     "output_type": "stream",
     "text": [
      "Le tableau comporte 8621 observation(s) ou article(s)\n",
      "Le tableau comporte 3 colonne(s)\n",
      "client_id    8621\n",
      "sex          8621\n",
      "birth        8621\n",
      "dtype: int64\n"
     ]
    }
   ],
   "source": [
    "#Afficher les dimensions du dataset\n",
    "print(\"Le tableau comporte {} observation(s) ou article(s)\".format(df_customers.shape[0]))\n",
    "print(\"Le tableau comporte {} colonne(s)\".format(df_customers.shape[1]))\n",
    "valeur_par_colonne = df_customers.count()\n",
    "print(valeur_par_colonne)"
   ]
  },
  {
   "cell_type": "code",
   "execution_count": 9,
   "metadata": {},
   "outputs": [
    {
     "data": {
      "text/plain": [
       "client_id    object\n",
       "sex          object\n",
       "birth         int64\n",
       "dtype: object"
      ]
     },
     "execution_count": 9,
     "metadata": {},
     "output_type": "execute_result"
    }
   ],
   "source": [
    "#Consulter le nombre de colonnes\n",
    "#La nature des données dans chacune des colonnes\n",
    "#Le nombre de valeurs présentes dans chacune des colonnes\n",
    "df_customers.dtypes\n"
   ]
  },
  {
   "cell_type": "code",
   "execution_count": 10,
   "metadata": {},
   "outputs": [
    {
     "data": {
      "text/html": [
       "<div>\n",
       "<style scoped>\n",
       "    .dataframe tbody tr th:only-of-type {\n",
       "        vertical-align: middle;\n",
       "    }\n",
       "\n",
       "    .dataframe tbody tr th {\n",
       "        vertical-align: top;\n",
       "    }\n",
       "\n",
       "    .dataframe thead th {\n",
       "        text-align: right;\n",
       "    }\n",
       "</style>\n",
       "<table border=\"1\" class=\"dataframe\">\n",
       "  <thead>\n",
       "    <tr style=\"text-align: right;\">\n",
       "      <th></th>\n",
       "      <th>client_id</th>\n",
       "      <th>sex</th>\n",
       "      <th>birth</th>\n",
       "    </tr>\n",
       "  </thead>\n",
       "  <tbody>\n",
       "    <tr>\n",
       "      <th>0</th>\n",
       "      <td>c_4410</td>\n",
       "      <td>f</td>\n",
       "      <td>1967</td>\n",
       "    </tr>\n",
       "    <tr>\n",
       "      <th>1</th>\n",
       "      <td>c_7839</td>\n",
       "      <td>f</td>\n",
       "      <td>1975</td>\n",
       "    </tr>\n",
       "    <tr>\n",
       "      <th>2</th>\n",
       "      <td>c_1699</td>\n",
       "      <td>f</td>\n",
       "      <td>1984</td>\n",
       "    </tr>\n",
       "    <tr>\n",
       "      <th>3</th>\n",
       "      <td>c_5961</td>\n",
       "      <td>f</td>\n",
       "      <td>1962</td>\n",
       "    </tr>\n",
       "    <tr>\n",
       "      <th>4</th>\n",
       "      <td>c_5320</td>\n",
       "      <td>m</td>\n",
       "      <td>1943</td>\n",
       "    </tr>\n",
       "  </tbody>\n",
       "</table>\n",
       "</div>"
      ],
      "text/plain": [
       "  client_id sex  birth\n",
       "0    c_4410   f   1967\n",
       "1    c_7839   f   1975\n",
       "2    c_1699   f   1984\n",
       "3    c_5961   f   1962\n",
       "4    c_5320   m   1943"
      ]
     },
     "metadata": {},
     "output_type": "display_data"
    }
   ],
   "source": [
    "#Afficher les 5 premières lignes de la table\n",
    "display(df_customers.head(5))"
   ]
  },
  {
   "cell_type": "code",
   "execution_count": 11,
   "metadata": {},
   "outputs": [
    {
     "data": {
      "text/plain": [
       "client_id    object\n",
       "sex          object\n",
       "birth         int64\n",
       "dtype: object"
      ]
     },
     "execution_count": 11,
     "metadata": {},
     "output_type": "execute_result"
    }
   ],
   "source": [
    "#Consulter le nombre de colonnes\n",
    "#La nature des données dans chacune des colonnes\n",
    "#Le nombre de valeurs présentes dans chacune des colonnes\n",
    "df_customers.dtypes\n"
   ]
  },
  {
   "cell_type": "code",
   "execution_count": 12,
   "metadata": {},
   "outputs": [
    {
     "name": "stdout",
     "output_type": "stream",
     "text": [
      "Nombre de lignes en doublon :  0\n"
     ]
    }
   ],
   "source": [
    "#Vérifier si il y a les lignes en doublons dans la colonne client_id\n",
    "doublons = df_customers['client_id'].duplicated()\n",
    "nombre_doublons = doublons.sum()\n",
    "print(\"Nombre de lignes en doublon : \", nombre_doublons)"
   ]
  },
  {
   "cell_type": "code",
   "execution_count": 13,
   "metadata": {},
   "outputs": [
    {
     "name": "stdout",
     "output_type": "stream",
     "text": [
      "       birth\n",
      "birth    1.0\n"
     ]
    }
   ],
   "source": [
    "lien_colonne = df_customers.corr()\n",
    "print(lien_colonne)"
   ]
  },
  {
   "cell_type": "markdown",
   "metadata": {},
   "source": [
    "<div style=\"border: 1px solid RGB(51,165,182);\" >\n",
    "<h3 style=\"margin: auto; padding: 20px; color: RGB(51,165,182); \">2.1.1 - Analyse exploratoire du fichier df_products</h3>\n",
    "</div>"
   ]
  },
  {
   "cell_type": "code",
   "execution_count": 14,
   "metadata": {},
   "outputs": [
    {
     "name": "stdout",
     "output_type": "stream",
     "text": [
      "Le tableau comporte 3286 observation(s) ou article(s)\n",
      "Le tableau comporte 3 colonne(s)\n",
      "id_prod    3286\n",
      "price      3286\n",
      "categ      3286\n",
      "dtype: int64\n"
     ]
    }
   ],
   "source": [
    "#Afficher les dimensions du dataset\n",
    "print(\"Le tableau comporte {} observation(s) ou article(s)\".format(df_products.shape[0]))\n",
    "print(\"Le tableau comporte {} colonne(s)\".format(df_products.shape[1]))\n",
    "valeur_par_colonne = df_products.count()\n",
    "print(valeur_par_colonne)"
   ]
  },
  {
   "cell_type": "code",
   "execution_count": 15,
   "metadata": {},
   "outputs": [
    {
     "data": {
      "text/plain": [
       "id_prod     object\n",
       "price      float64\n",
       "categ        int64\n",
       "dtype: object"
      ]
     },
     "execution_count": 15,
     "metadata": {},
     "output_type": "execute_result"
    }
   ],
   "source": [
    "#Consulter le nombre de colonnes\n",
    "#La nature des données dans chacune des colonnes\n",
    "#Le nombre de valeurs présentes dans chacune des colonnes\n",
    "df_products.dtypes\n"
   ]
  },
  {
   "cell_type": "code",
   "execution_count": 16,
   "metadata": {},
   "outputs": [
    {
     "data": {
      "text/html": [
       "<div>\n",
       "<style scoped>\n",
       "    .dataframe tbody tr th:only-of-type {\n",
       "        vertical-align: middle;\n",
       "    }\n",
       "\n",
       "    .dataframe tbody tr th {\n",
       "        vertical-align: top;\n",
       "    }\n",
       "\n",
       "    .dataframe thead th {\n",
       "        text-align: right;\n",
       "    }\n",
       "</style>\n",
       "<table border=\"1\" class=\"dataframe\">\n",
       "  <thead>\n",
       "    <tr style=\"text-align: right;\">\n",
       "      <th></th>\n",
       "      <th>id_prod</th>\n",
       "      <th>price</th>\n",
       "      <th>categ</th>\n",
       "    </tr>\n",
       "  </thead>\n",
       "  <tbody>\n",
       "    <tr>\n",
       "      <th>0</th>\n",
       "      <td>0_1421</td>\n",
       "      <td>19.99</td>\n",
       "      <td>0</td>\n",
       "    </tr>\n",
       "    <tr>\n",
       "      <th>1</th>\n",
       "      <td>0_1368</td>\n",
       "      <td>5.13</td>\n",
       "      <td>0</td>\n",
       "    </tr>\n",
       "    <tr>\n",
       "      <th>2</th>\n",
       "      <td>0_731</td>\n",
       "      <td>17.99</td>\n",
       "      <td>0</td>\n",
       "    </tr>\n",
       "    <tr>\n",
       "      <th>3</th>\n",
       "      <td>1_587</td>\n",
       "      <td>4.99</td>\n",
       "      <td>1</td>\n",
       "    </tr>\n",
       "    <tr>\n",
       "      <th>4</th>\n",
       "      <td>0_1507</td>\n",
       "      <td>3.99</td>\n",
       "      <td>0</td>\n",
       "    </tr>\n",
       "  </tbody>\n",
       "</table>\n",
       "</div>"
      ],
      "text/plain": [
       "  id_prod  price  categ\n",
       "0  0_1421  19.99      0\n",
       "1  0_1368   5.13      0\n",
       "2   0_731  17.99      0\n",
       "3   1_587   4.99      1\n",
       "4  0_1507   3.99      0"
      ]
     },
     "metadata": {},
     "output_type": "display_data"
    }
   ],
   "source": [
    "#Afficher les 5 premières lignes de la table\n",
    "display(df_products.head(5))"
   ]
  },
  {
   "cell_type": "code",
   "execution_count": 17,
   "metadata": {},
   "outputs": [
    {
     "name": "stdout",
     "output_type": "stream",
     "text": [
      "Nombre de lignes en doublon :  0\n"
     ]
    }
   ],
   "source": [
    "#Vérifier si il y a les lignes en doublons dans la colonne client_id\n",
    "doublons = df_products['id_prod'].duplicated()\n",
    "nombre_doublons = doublons.sum()\n",
    "print(\"Nombre de lignes en doublon : \", nombre_doublons)"
   ]
  },
  {
   "cell_type": "markdown",
   "metadata": {},
   "source": [
    "<div style=\"border: 1px solid RGB(51,165,182);\" >\n",
    "<h3 style=\"margin: auto; padding: 20px; color: RGB(51,165,182); \">2.1.1.1 - Analyse de la variable PRIX</h3>\n",
    "</div>"
   ]
  },
  {
   "cell_type": "code",
   "execution_count": 18,
   "metadata": {},
   "outputs": [
    {
     "data": {
      "text/html": [
       "<div>\n",
       "<style scoped>\n",
       "    .dataframe tbody tr th:only-of-type {\n",
       "        vertical-align: middle;\n",
       "    }\n",
       "\n",
       "    .dataframe tbody tr th {\n",
       "        vertical-align: top;\n",
       "    }\n",
       "\n",
       "    .dataframe thead th {\n",
       "        text-align: right;\n",
       "    }\n",
       "</style>\n",
       "<table border=\"1\" class=\"dataframe\">\n",
       "  <thead>\n",
       "    <tr style=\"text-align: right;\">\n",
       "      <th></th>\n",
       "      <th>id_prod</th>\n",
       "      <th>price</th>\n",
       "      <th>categ</th>\n",
       "    </tr>\n",
       "  </thead>\n",
       "  <tbody>\n",
       "  </tbody>\n",
       "</table>\n",
       "</div>"
      ],
      "text/plain": [
       "Empty DataFrame\n",
       "Columns: [id_prod, price, categ]\n",
       "Index: []"
      ]
     },
     "metadata": {},
     "output_type": "display_data"
    },
    {
     "name": "stdout",
     "output_type": "stream",
     "text": [
      "Nombres d'article avec un prix non renseignés: Empty DataFrame\n",
      "Columns: [id_prod, price, categ]\n",
      "Index: []\n",
      "Prix minimum: 0.62\n",
      "Prix maximum: 300.0\n"
     ]
    },
    {
     "data": {
      "text/html": [
       "<div>\n",
       "<style scoped>\n",
       "    .dataframe tbody tr th:only-of-type {\n",
       "        vertical-align: middle;\n",
       "    }\n",
       "\n",
       "    .dataframe tbody tr th {\n",
       "        vertical-align: top;\n",
       "    }\n",
       "\n",
       "    .dataframe thead th {\n",
       "        text-align: right;\n",
       "    }\n",
       "</style>\n",
       "<table border=\"1\" class=\"dataframe\">\n",
       "  <thead>\n",
       "    <tr style=\"text-align: right;\">\n",
       "      <th></th>\n",
       "      <th>id_prod</th>\n",
       "      <th>price</th>\n",
       "      <th>categ</th>\n",
       "    </tr>\n",
       "  </thead>\n",
       "  <tbody>\n",
       "  </tbody>\n",
       "</table>\n",
       "</div>"
      ],
      "text/plain": [
       "Empty DataFrame\n",
       "Columns: [id_prod, price, categ]\n",
       "Index: []"
      ]
     },
     "metadata": {},
     "output_type": "display_data"
    }
   ],
   "source": [
    "###############\n",
    "## LES PRIX  ##\n",
    "###############\n",
    "\n",
    "#Vérification des prix: Y a t-il des prix non renseignés, négatif ou nul?\n",
    "liste_prix_nul = df_products.loc[df_products['price']  <= 0]\n",
    "display(liste_prix_nul)\n",
    "#Afficher le ou les prix non renseignés dans la colonne \"price\"\n",
    "print(\"Nombres d'article avec un prix non renseignés: {}\".format(liste_prix_nul)) #Saisir l'instruction manquante dans la fonction format\n",
    "#Afficher le prix minimum de la colonne \"price\"\n",
    "prix_minimum = df_products['price'].min()\n",
    "print(\"Prix minimum: {}\".format(prix_minimum)) \n",
    "\n",
    "#Afficher le prix maximum de la colonne \"price\"\n",
    "prix_maximum = df_products['price'].max()\n",
    "print(\"Prix maximum: {}\".format(prix_maximum)) \n",
    "#Affichier les prix inférieurs à 0 (qu'est ce qu'il faut en faire ?)\n",
    "liste_prix_nul = df_products.loc[df_products['price']  <= 0]\n",
    "display(liste_prix_nul)\n"
   ]
  },
  {
   "cell_type": "markdown",
   "metadata": {},
   "source": [
    "<div style=\"border: 1px solid RGB(51,165,182);\" >\n",
    "<h3 style=\"margin: auto; padding: 20px; color: RGB(51,165,182); \">2.1.1 - Analyse exploratoire du fichier df_transactions</h3>\n",
    "</div>"
   ]
  },
  {
   "cell_type": "code",
   "execution_count": 20,
   "metadata": {},
   "outputs": [
    {
     "name": "stdout",
     "output_type": "stream",
     "text": [
      "Le tableau comporte 1048575 observation(s) ou article(s)\n",
      "Le tableau comporte 4 colonne(s)\n",
      "id_prod       687534\n",
      "date          687534\n",
      "session_id    687534\n",
      "client_id     687534\n",
      "dtype: int64\n"
     ]
    }
   ],
   "source": [
    "#Afficher les dimensions du dataset\n",
    "print(\"Le tableau comporte {} observation(s) ou article(s)\".format(df_transactions.shape[0]))\n",
    "print(\"Le tableau comporte {} colonne(s)\".format(df_transactions.shape[1]))\n",
    "valeur_par_colonne = df_transactions.count()\n",
    "print(valeur_par_colonne)"
   ]
  },
  {
   "cell_type": "code",
   "execution_count": 21,
   "metadata": {},
   "outputs": [
    {
     "data": {
      "text/plain": [
       "id_prod       object\n",
       "date          object\n",
       "session_id    object\n",
       "client_id     object\n",
       "dtype: object"
      ]
     },
     "execution_count": 21,
     "metadata": {},
     "output_type": "execute_result"
    }
   ],
   "source": [
    "#Consulter le nombre de colonnes\n",
    "#La nature des données dans chacune des colonnes\n",
    "#Le nombre de valeurs présentes dans chacune des colonnes\n",
    "df_transactions.dtypes\n"
   ]
  },
  {
   "cell_type": "code",
   "execution_count": 22,
   "metadata": {},
   "outputs": [
    {
     "data": {
      "text/html": [
       "<div>\n",
       "<style scoped>\n",
       "    .dataframe tbody tr th:only-of-type {\n",
       "        vertical-align: middle;\n",
       "    }\n",
       "\n",
       "    .dataframe tbody tr th {\n",
       "        vertical-align: top;\n",
       "    }\n",
       "\n",
       "    .dataframe thead th {\n",
       "        text-align: right;\n",
       "    }\n",
       "</style>\n",
       "<table border=\"1\" class=\"dataframe\">\n",
       "  <thead>\n",
       "    <tr style=\"text-align: right;\">\n",
       "      <th></th>\n",
       "      <th>id_prod</th>\n",
       "      <th>date</th>\n",
       "      <th>session_id</th>\n",
       "      <th>client_id</th>\n",
       "    </tr>\n",
       "  </thead>\n",
       "  <tbody>\n",
       "    <tr>\n",
       "      <th>0</th>\n",
       "      <td>0_1259</td>\n",
       "      <td>2021-03-01 00:01:07.843138</td>\n",
       "      <td>s_1</td>\n",
       "      <td>c_329</td>\n",
       "    </tr>\n",
       "    <tr>\n",
       "      <th>1</th>\n",
       "      <td>0_1390</td>\n",
       "      <td>2021-03-01 00:02:26.047414</td>\n",
       "      <td>s_2</td>\n",
       "      <td>c_664</td>\n",
       "    </tr>\n",
       "    <tr>\n",
       "      <th>2</th>\n",
       "      <td>0_1352</td>\n",
       "      <td>2021-03-01 00:02:38.311413</td>\n",
       "      <td>s_3</td>\n",
       "      <td>c_580</td>\n",
       "    </tr>\n",
       "    <tr>\n",
       "      <th>3</th>\n",
       "      <td>0_1458</td>\n",
       "      <td>2021-03-01 00:04:54.559692</td>\n",
       "      <td>s_4</td>\n",
       "      <td>c_7912</td>\n",
       "    </tr>\n",
       "    <tr>\n",
       "      <th>4</th>\n",
       "      <td>0_1358</td>\n",
       "      <td>2021-03-01 00:05:18.801198</td>\n",
       "      <td>s_5</td>\n",
       "      <td>c_2033</td>\n",
       "    </tr>\n",
       "  </tbody>\n",
       "</table>\n",
       "</div>"
      ],
      "text/plain": [
       "  id_prod                        date session_id client_id\n",
       "0  0_1259  2021-03-01 00:01:07.843138        s_1     c_329\n",
       "1  0_1390  2021-03-01 00:02:26.047414        s_2     c_664\n",
       "2  0_1352  2021-03-01 00:02:38.311413        s_3     c_580\n",
       "3  0_1458  2021-03-01 00:04:54.559692        s_4    c_7912\n",
       "4  0_1358  2021-03-01 00:05:18.801198        s_5    c_2033"
      ]
     },
     "metadata": {},
     "output_type": "display_data"
    }
   ],
   "source": [
    "#Afficher les 5 premières lignes de la table\n",
    "display(df_transactions.head(5))"
   ]
  },
  {
   "cell_type": "code",
   "execution_count": 23,
   "metadata": {},
   "outputs": [
    {
     "name": "stdout",
     "output_type": "stream",
     "text": [
      "        id_prod date session_id client_id\n",
      "687534      NaN  NaN        NaN       NaN\n",
      "687535      NaN  NaN        NaN       NaN\n",
      "687536      NaN  NaN        NaN       NaN\n",
      "687537      NaN  NaN        NaN       NaN\n",
      "687538      NaN  NaN        NaN       NaN\n",
      "...         ...  ...        ...       ...\n",
      "1048570     NaN  NaN        NaN       NaN\n",
      "1048571     NaN  NaN        NaN       NaN\n",
      "1048572     NaN  NaN        NaN       NaN\n",
      "1048573     NaN  NaN        NaN       NaN\n",
      "1048574     NaN  NaN        NaN       NaN\n",
      "\n",
      "[361041 rows x 4 columns]\n",
      "Empty DataFrame\n",
      "Columns: [id_prod, date, session_id, client_id]\n",
      "Index: []\n"
     ]
    }
   ],
   "source": [
    "\n",
    "# Vérification des valeurs manquantes\n",
    "empty_rows = df_transactions[df_transactions.isnull().any(axis=1)]\n",
    "print(empty_rows)\n",
    "df_transactions.dropna(how='all', inplace=True)\n",
    "invalid_rows = df_transactions[df_transactions.isnull().all(axis=1)]\n",
    "print(invalid_rows)"
   ]
  },
  {
   "cell_type": "code",
   "execution_count": 24,
   "metadata": {},
   "outputs": [
    {
     "data": {
      "text/plain": [
       "[]"
      ]
     },
     "metadata": {},
     "output_type": "display_data"
    }
   ],
   "source": [
    "# Sélectionner les lignes où le numéro de client ne commence pas par \"ct_\"\n",
    "clients_ct = df_transactions.loc[~df_transactions['client_id'].str.startswith('c_'), 'client_id'].tolist()\n",
    "\n",
    "display(clients_ct)"
   ]
  },
  {
   "cell_type": "markdown",
   "metadata": {},
   "source": [
    "<div style=\"border: 1px solid RGB(51,165,182);\" >\n",
    "<h3 style=\"margin: auto; padding: 20px; color: RGB(51,165,182); \">2.1.1.2 - Fusion dataframe produit et transaction</h3>\n",
    "</div>"
   ]
  },
  {
   "cell_type": "code",
   "execution_count": 25,
   "metadata": {},
   "outputs": [
    {
     "data": {
      "text/html": [
       "<div>\n",
       "<style scoped>\n",
       "    .dataframe tbody tr th:only-of-type {\n",
       "        vertical-align: middle;\n",
       "    }\n",
       "\n",
       "    .dataframe tbody tr th {\n",
       "        vertical-align: top;\n",
       "    }\n",
       "\n",
       "    .dataframe thead th {\n",
       "        text-align: right;\n",
       "    }\n",
       "</style>\n",
       "<table border=\"1\" class=\"dataframe\">\n",
       "  <thead>\n",
       "    <tr style=\"text-align: right;\">\n",
       "      <th></th>\n",
       "      <th>id_prod</th>\n",
       "      <th>date</th>\n",
       "      <th>session_id</th>\n",
       "      <th>client_id</th>\n",
       "      <th>price</th>\n",
       "      <th>categ</th>\n",
       "    </tr>\n",
       "  </thead>\n",
       "  <tbody>\n",
       "    <tr>\n",
       "      <th>0</th>\n",
       "      <td>0_1259</td>\n",
       "      <td>2021-03-01 00:01:07.843138</td>\n",
       "      <td>s_1</td>\n",
       "      <td>c_329</td>\n",
       "      <td>11.99</td>\n",
       "      <td>0</td>\n",
       "    </tr>\n",
       "    <tr>\n",
       "      <th>1</th>\n",
       "      <td>0_1259</td>\n",
       "      <td>2021-03-01 10:27:10.675023</td>\n",
       "      <td>s_202</td>\n",
       "      <td>c_1599</td>\n",
       "      <td>11.99</td>\n",
       "      <td>0</td>\n",
       "    </tr>\n",
       "    <tr>\n",
       "      <th>2</th>\n",
       "      <td>0_1259</td>\n",
       "      <td>2021-03-04 07:26:01.343183</td>\n",
       "      <td>s_1519</td>\n",
       "      <td>c_1609</td>\n",
       "      <td>11.99</td>\n",
       "      <td>0</td>\n",
       "    </tr>\n",
       "    <tr>\n",
       "      <th>3</th>\n",
       "      <td>0_1259</td>\n",
       "      <td>2021-03-05 13:32:43.907997</td>\n",
       "      <td>s_2114</td>\n",
       "      <td>c_107</td>\n",
       "      <td>11.99</td>\n",
       "      <td>0</td>\n",
       "    </tr>\n",
       "    <tr>\n",
       "      <th>4</th>\n",
       "      <td>0_1259</td>\n",
       "      <td>2021-03-07 09:47:05.272864</td>\n",
       "      <td>s_2976</td>\n",
       "      <td>c_4215</td>\n",
       "      <td>11.99</td>\n",
       "      <td>0</td>\n",
       "    </tr>\n",
       "    <tr>\n",
       "      <th>...</th>\n",
       "      <td>...</td>\n",
       "      <td>...</td>\n",
       "      <td>...</td>\n",
       "      <td>...</td>\n",
       "      <td>...</td>\n",
       "      <td>...</td>\n",
       "    </tr>\n",
       "    <tr>\n",
       "      <th>687529</th>\n",
       "      <td>0_1576</td>\n",
       "      <td>2022-10-20 21:09:34.520763</td>\n",
       "      <td>s_285542</td>\n",
       "      <td>c_7954</td>\n",
       "      <td>2.29</td>\n",
       "      <td>0</td>\n",
       "    </tr>\n",
       "    <tr>\n",
       "      <th>687530</th>\n",
       "      <td>0_433</td>\n",
       "      <td>2022-02-21 06:11:31.176502</td>\n",
       "      <td>s_168499</td>\n",
       "      <td>c_8069</td>\n",
       "      <td>2.99</td>\n",
       "      <td>0</td>\n",
       "    </tr>\n",
       "    <tr>\n",
       "      <th>687531</th>\n",
       "      <td>0_433</td>\n",
       "      <td>2022-06-21 06:11:31.176502</td>\n",
       "      <td>s_226925</td>\n",
       "      <td>c_8069</td>\n",
       "      <td>2.99</td>\n",
       "      <td>0</td>\n",
       "    </tr>\n",
       "    <tr>\n",
       "      <th>687532</th>\n",
       "      <td>0_433</td>\n",
       "      <td>2022-08-21 06:11:31.176502</td>\n",
       "      <td>s_256286</td>\n",
       "      <td>c_8069</td>\n",
       "      <td>2.99</td>\n",
       "      <td>0</td>\n",
       "    </tr>\n",
       "    <tr>\n",
       "      <th>687533</th>\n",
       "      <td>0_1633</td>\n",
       "      <td>2022-02-25 04:51:46.594681</td>\n",
       "      <td>s_170513</td>\n",
       "      <td>c_7981</td>\n",
       "      <td>24.99</td>\n",
       "      <td>0</td>\n",
       "    </tr>\n",
       "  </tbody>\n",
       "</table>\n",
       "<p>687534 rows × 6 columns</p>\n",
       "</div>"
      ],
      "text/plain": [
       "       id_prod                        date session_id client_id  price  categ\n",
       "0       0_1259  2021-03-01 00:01:07.843138        s_1     c_329  11.99      0\n",
       "1       0_1259  2021-03-01 10:27:10.675023      s_202    c_1599  11.99      0\n",
       "2       0_1259  2021-03-04 07:26:01.343183     s_1519    c_1609  11.99      0\n",
       "3       0_1259  2021-03-05 13:32:43.907997     s_2114     c_107  11.99      0\n",
       "4       0_1259  2021-03-07 09:47:05.272864     s_2976    c_4215  11.99      0\n",
       "...        ...                         ...        ...       ...    ...    ...\n",
       "687529  0_1576  2022-10-20 21:09:34.520763   s_285542    c_7954   2.29      0\n",
       "687530   0_433  2022-02-21 06:11:31.176502   s_168499    c_8069   2.99      0\n",
       "687531   0_433  2022-06-21 06:11:31.176502   s_226925    c_8069   2.99      0\n",
       "687532   0_433  2022-08-21 06:11:31.176502   s_256286    c_8069   2.99      0\n",
       "687533  0_1633  2022-02-25 04:51:46.594681   s_170513    c_7981  24.99      0\n",
       "\n",
       "[687534 rows x 6 columns]"
      ]
     },
     "metadata": {},
     "output_type": "display_data"
    },
    {
     "data": {
      "text/html": [
       "<div>\n",
       "<style scoped>\n",
       "    .dataframe tbody tr th:only-of-type {\n",
       "        vertical-align: middle;\n",
       "    }\n",
       "\n",
       "    .dataframe tbody tr th {\n",
       "        vertical-align: top;\n",
       "    }\n",
       "\n",
       "    .dataframe thead th {\n",
       "        text-align: right;\n",
       "    }\n",
       "</style>\n",
       "<table border=\"1\" class=\"dataframe\">\n",
       "  <thead>\n",
       "    <tr style=\"text-align: right;\">\n",
       "      <th></th>\n",
       "      <th>id_prod</th>\n",
       "      <th>price</th>\n",
       "      <th>categ</th>\n",
       "      <th>nb_articles</th>\n",
       "      <th>chiffre_affaires</th>\n",
       "    </tr>\n",
       "  </thead>\n",
       "  <tbody>\n",
       "    <tr>\n",
       "      <th>0</th>\n",
       "      <td>0_0</td>\n",
       "      <td>3.75</td>\n",
       "      <td>0</td>\n",
       "      <td>1242</td>\n",
       "      <td>4657.50</td>\n",
       "    </tr>\n",
       "    <tr>\n",
       "      <th>1</th>\n",
       "      <td>0_1</td>\n",
       "      <td>10.99</td>\n",
       "      <td>0</td>\n",
       "      <td>487</td>\n",
       "      <td>5352.13</td>\n",
       "    </tr>\n",
       "    <tr>\n",
       "      <th>2</th>\n",
       "      <td>0_10</td>\n",
       "      <td>17.95</td>\n",
       "      <td>0</td>\n",
       "      <td>22</td>\n",
       "      <td>394.90</td>\n",
       "    </tr>\n",
       "    <tr>\n",
       "      <th>3</th>\n",
       "      <td>0_100</td>\n",
       "      <td>20.60</td>\n",
       "      <td>0</td>\n",
       "      <td>3</td>\n",
       "      <td>61.80</td>\n",
       "    </tr>\n",
       "    <tr>\n",
       "      <th>4</th>\n",
       "      <td>0_1000</td>\n",
       "      <td>6.84</td>\n",
       "      <td>0</td>\n",
       "      <td>432</td>\n",
       "      <td>2954.88</td>\n",
       "    </tr>\n",
       "    <tr>\n",
       "      <th>...</th>\n",
       "      <td>...</td>\n",
       "      <td>...</td>\n",
       "      <td>...</td>\n",
       "      <td>...</td>\n",
       "      <td>...</td>\n",
       "    </tr>\n",
       "    <tr>\n",
       "      <th>3260</th>\n",
       "      <td>2_95</td>\n",
       "      <td>98.99</td>\n",
       "      <td>2</td>\n",
       "      <td>4</td>\n",
       "      <td>395.96</td>\n",
       "    </tr>\n",
       "    <tr>\n",
       "      <th>3261</th>\n",
       "      <td>2_96</td>\n",
       "      <td>47.91</td>\n",
       "      <td>2</td>\n",
       "      <td>598</td>\n",
       "      <td>28650.18</td>\n",
       "    </tr>\n",
       "    <tr>\n",
       "      <th>3262</th>\n",
       "      <td>2_97</td>\n",
       "      <td>160.99</td>\n",
       "      <td>2</td>\n",
       "      <td>13</td>\n",
       "      <td>2092.87</td>\n",
       "    </tr>\n",
       "    <tr>\n",
       "      <th>3263</th>\n",
       "      <td>2_98</td>\n",
       "      <td>149.74</td>\n",
       "      <td>2</td>\n",
       "      <td>1</td>\n",
       "      <td>149.74</td>\n",
       "    </tr>\n",
       "    <tr>\n",
       "      <th>3264</th>\n",
       "      <td>2_99</td>\n",
       "      <td>84.99</td>\n",
       "      <td>2</td>\n",
       "      <td>7</td>\n",
       "      <td>594.93</td>\n",
       "    </tr>\n",
       "  </tbody>\n",
       "</table>\n",
       "<p>3265 rows × 5 columns</p>\n",
       "</div>"
      ],
      "text/plain": [
       "     id_prod   price  categ  nb_articles  chiffre_affaires\n",
       "0        0_0    3.75      0         1242           4657.50\n",
       "1        0_1   10.99      0          487           5352.13\n",
       "2       0_10   17.95      0           22            394.90\n",
       "3      0_100   20.60      0            3             61.80\n",
       "4     0_1000    6.84      0          432           2954.88\n",
       "...      ...     ...    ...          ...               ...\n",
       "3260    2_95   98.99      2            4            395.96\n",
       "3261    2_96   47.91      2          598          28650.18\n",
       "3262    2_97  160.99      2           13           2092.87\n",
       "3263    2_98  149.74      2            1            149.74\n",
       "3264    2_99   84.99      2            7            594.93\n",
       "\n",
       "[3265 rows x 5 columns]"
      ]
     },
     "metadata": {},
     "output_type": "display_data"
    }
   ],
   "source": [
    "## Fusion des DataFrames df_transactions et df_products\n",
    "df_merge = pd.merge(df_transactions, df_products, on='id_prod')\n",
    "display(df_merge)\n",
    "# Calcul du nombre d'articles vendus et du chiffre d'affaires pour chaque produit\n",
    "df_summary = df_merge.groupby(['id_prod', 'price', 'categ'])\\\n",
    "                     .agg(nb_articles=('id_prod', 'count'), chiffre_affaires=('price', 'sum'))\\\n",
    "                     .reset_index()\n",
    "\n",
    "# Affichage du DataFrame de synthèse\n",
    "display(df_summary)"
   ]
  },
  {
   "cell_type": "markdown",
   "metadata": {},
   "source": [
    "<div style=\"border: 1px solid RGB(51,165,182);\" >\n",
    "<h3 style=\"margin: auto; padding: 20px; color: RGB(51,165,182); \">2.1.1.2 -Chiffre d'affaires par categorie</h3>\n",
    "</div>"
   ]
  },
  {
   "cell_type": "code",
   "execution_count": 26,
   "metadata": {},
   "outputs": [
    {
     "data": {
      "text/html": [
       "<div>\n",
       "<style scoped>\n",
       "    .dataframe tbody tr th:only-of-type {\n",
       "        vertical-align: middle;\n",
       "    }\n",
       "\n",
       "    .dataframe tbody tr th {\n",
       "        vertical-align: top;\n",
       "    }\n",
       "\n",
       "    .dataframe thead th {\n",
       "        text-align: right;\n",
       "    }\n",
       "</style>\n",
       "<table border=\"1\" class=\"dataframe\">\n",
       "  <thead>\n",
       "    <tr style=\"text-align: right;\">\n",
       "      <th></th>\n",
       "      <th>price</th>\n",
       "      <th>nb_articles</th>\n",
       "      <th>chiffre_affaires</th>\n",
       "    </tr>\n",
       "    <tr>\n",
       "      <th>categ</th>\n",
       "      <th></th>\n",
       "      <th></th>\n",
       "      <th></th>\n",
       "    </tr>\n",
       "  </thead>\n",
       "  <tbody>\n",
       "    <tr>\n",
       "      <th>0</th>\n",
       "      <td>26850.23</td>\n",
       "      <td>415459</td>\n",
       "      <td>4419730.97</td>\n",
       "    </tr>\n",
       "    <tr>\n",
       "      <th>1</th>\n",
       "      <td>18796.17</td>\n",
       "      <td>235592</td>\n",
       "      <td>4827657.11</td>\n",
       "    </tr>\n",
       "    <tr>\n",
       "      <th>2</th>\n",
       "      <td>25402.10</td>\n",
       "      <td>36483</td>\n",
       "      <td>2780275.02</td>\n",
       "    </tr>\n",
       "  </tbody>\n",
       "</table>\n",
       "</div>"
      ],
      "text/plain": [
       "          price  nb_articles  chiffre_affaires\n",
       "categ                                         \n",
       "0      26850.23       415459        4419730.97\n",
       "1      18796.17       235592        4827657.11\n",
       "2      25402.10        36483        2780275.02"
      ]
     },
     "metadata": {},
     "output_type": "display_data"
    }
   ],
   "source": [
    "df_ca_par_categorie = df_summary.groupby(['categ']).sum()\n",
    "display(df_ca_par_categorie)"
   ]
  },
  {
   "cell_type": "markdown",
   "metadata": {},
   "source": [
    "<div style=\"border: 1px solid RGB(51,165,182);\" >\n",
    "<h3 style=\"margin: auto; padding: 20px; color: RGB(51,165,182); \">Moyenne mobile</h3>\n",
    "</div>"
   ]
  },
  {
   "cell_type": "code",
   "execution_count": 54,
   "metadata": {},
   "outputs": [
    {
     "data": {
      "text/html": [
       "<div>\n",
       "<style scoped>\n",
       "    .dataframe tbody tr th:only-of-type {\n",
       "        vertical-align: middle;\n",
       "    }\n",
       "\n",
       "    .dataframe tbody tr th {\n",
       "        vertical-align: top;\n",
       "    }\n",
       "\n",
       "    .dataframe thead th {\n",
       "        text-align: right;\n",
       "    }\n",
       "</style>\n",
       "<table border=\"1\" class=\"dataframe\">\n",
       "  <thead>\n",
       "    <tr style=\"text-align: right;\">\n",
       "      <th></th>\n",
       "      <th>id_prod</th>\n",
       "      <th>date</th>\n",
       "      <th>session_id</th>\n",
       "      <th>client_id</th>\n",
       "      <th>price</th>\n",
       "      <th>categ</th>\n",
       "      <th>moyenne_mobile</th>\n",
       "      <th>mois</th>\n",
       "      <th>mois_str</th>\n",
       "    </tr>\n",
       "  </thead>\n",
       "  <tbody>\n",
       "    <tr>\n",
       "      <th>0</th>\n",
       "      <td>0_1259</td>\n",
       "      <td>2021-03-01 00:01:07.843138</td>\n",
       "      <td>s_1</td>\n",
       "      <td>c_329</td>\n",
       "      <td>11.99</td>\n",
       "      <td>0</td>\n",
       "      <td>11.990000</td>\n",
       "      <td>2021-03</td>\n",
       "      <td>2021-03</td>\n",
       "    </tr>\n",
       "    <tr>\n",
       "      <th>341</th>\n",
       "      <td>0_1390</td>\n",
       "      <td>2021-03-01 00:02:26.047414</td>\n",
       "      <td>s_2</td>\n",
       "      <td>c_664</td>\n",
       "      <td>19.37</td>\n",
       "      <td>0</td>\n",
       "      <td>15.680000</td>\n",
       "      <td>2021-03</td>\n",
       "      <td>2021-03</td>\n",
       "    </tr>\n",
       "    <tr>\n",
       "      <th>1221</th>\n",
       "      <td>0_1352</td>\n",
       "      <td>2021-03-01 00:02:38.311413</td>\n",
       "      <td>s_3</td>\n",
       "      <td>c_580</td>\n",
       "      <td>4.50</td>\n",
       "      <td>0</td>\n",
       "      <td>11.953333</td>\n",
       "      <td>2021-03</td>\n",
       "      <td>2021-03</td>\n",
       "    </tr>\n",
       "    <tr>\n",
       "      <th>2225</th>\n",
       "      <td>0_1458</td>\n",
       "      <td>2021-03-01 00:04:54.559692</td>\n",
       "      <td>s_4</td>\n",
       "      <td>c_7912</td>\n",
       "      <td>6.55</td>\n",
       "      <td>0</td>\n",
       "      <td>10.602500</td>\n",
       "      <td>2021-03</td>\n",
       "      <td>2021-03</td>\n",
       "    </tr>\n",
       "    <tr>\n",
       "      <th>3290</th>\n",
       "      <td>0_1358</td>\n",
       "      <td>2021-03-01 00:05:18.801198</td>\n",
       "      <td>s_5</td>\n",
       "      <td>c_2033</td>\n",
       "      <td>16.49</td>\n",
       "      <td>0</td>\n",
       "      <td>11.780000</td>\n",
       "      <td>2021-03</td>\n",
       "      <td>2021-03</td>\n",
       "    </tr>\n",
       "    <tr>\n",
       "      <th>4396</th>\n",
       "      <td>0_1073</td>\n",
       "      <td>2021-03-01 00:05:44.999018</td>\n",
       "      <td>s_6</td>\n",
       "      <td>c_4908</td>\n",
       "      <td>13.99</td>\n",
       "      <td>0</td>\n",
       "      <td>12.148333</td>\n",
       "      <td>2021-03</td>\n",
       "      <td>2021-03</td>\n",
       "    </tr>\n",
       "    <tr>\n",
       "      <th>4944</th>\n",
       "      <td>0_1304</td>\n",
       "      <td>2021-03-01 00:07:04.371179</td>\n",
       "      <td>s_7</td>\n",
       "      <td>c_1609</td>\n",
       "      <td>5.86</td>\n",
       "      <td>0</td>\n",
       "      <td>11.250000</td>\n",
       "      <td>2021-03</td>\n",
       "      <td>2021-03</td>\n",
       "    </tr>\n",
       "    <tr>\n",
       "      <th>5268</th>\n",
       "      <td>0_279</td>\n",
       "      <td>2021-03-01 00:07:48.507530</td>\n",
       "      <td>s_6</td>\n",
       "      <td>c_4908</td>\n",
       "      <td>16.99</td>\n",
       "      <td>0</td>\n",
       "      <td>11.964286</td>\n",
       "      <td>2021-03</td>\n",
       "      <td>2021-03</td>\n",
       "    </tr>\n",
       "    <tr>\n",
       "      <th>5305</th>\n",
       "      <td>1_445</td>\n",
       "      <td>2021-03-01 00:09:11.523122</td>\n",
       "      <td>s_8</td>\n",
       "      <td>c_7991</td>\n",
       "      <td>23.99</td>\n",
       "      <td>1</td>\n",
       "      <td>12.624286</td>\n",
       "      <td>2021-03</td>\n",
       "      <td>2021-03</td>\n",
       "    </tr>\n",
       "    <tr>\n",
       "      <th>6565</th>\n",
       "      <td>1_556</td>\n",
       "      <td>2021-03-01 00:10:20.265265</td>\n",
       "      <td>s_9</td>\n",
       "      <td>c_6171</td>\n",
       "      <td>24.47</td>\n",
       "      <td>1</td>\n",
       "      <td>15.477143</td>\n",
       "      <td>2021-03</td>\n",
       "      <td>2021-03</td>\n",
       "    </tr>\n",
       "  </tbody>\n",
       "</table>\n",
       "</div>"
      ],
      "text/plain": [
       "     id_prod                       date session_id client_id  price  categ  \\\n",
       "0     0_1259 2021-03-01 00:01:07.843138        s_1     c_329  11.99      0   \n",
       "341   0_1390 2021-03-01 00:02:26.047414        s_2     c_664  19.37      0   \n",
       "1221  0_1352 2021-03-01 00:02:38.311413        s_3     c_580   4.50      0   \n",
       "2225  0_1458 2021-03-01 00:04:54.559692        s_4    c_7912   6.55      0   \n",
       "3290  0_1358 2021-03-01 00:05:18.801198        s_5    c_2033  16.49      0   \n",
       "4396  0_1073 2021-03-01 00:05:44.999018        s_6    c_4908  13.99      0   \n",
       "4944  0_1304 2021-03-01 00:07:04.371179        s_7    c_1609   5.86      0   \n",
       "5268   0_279 2021-03-01 00:07:48.507530        s_6    c_4908  16.99      0   \n",
       "5305   1_445 2021-03-01 00:09:11.523122        s_8    c_7991  23.99      1   \n",
       "6565   1_556 2021-03-01 00:10:20.265265        s_9    c_6171  24.47      1   \n",
       "\n",
       "      moyenne_mobile     mois mois_str  \n",
       "0          11.990000  2021-03  2021-03  \n",
       "341        15.680000  2021-03  2021-03  \n",
       "1221       11.953333  2021-03  2021-03  \n",
       "2225       10.602500  2021-03  2021-03  \n",
       "3290       11.780000  2021-03  2021-03  \n",
       "4396       12.148333  2021-03  2021-03  \n",
       "4944       11.250000  2021-03  2021-03  \n",
       "5268       11.964286  2021-03  2021-03  \n",
       "5305       12.624286  2021-03  2021-03  \n",
       "6565       15.477143  2021-03  2021-03  "
      ]
     },
     "metadata": {},
     "output_type": "display_data"
    },
    {
     "data": {
      "image/png": "[encoded data removed]",
      "text/plain": [
       "<Figure size 720x432 with 1 Axes>"
      ]
     },
     "metadata": {
      "needs_background": "light"
     },
     "output_type": "display_data"
    }
   ],
   "source": [
    "\n",
    "# Trier le DataFrame par ordre croissant de date\n",
    "df_merge = df_merge.sort_values('date')\n",
    "\n",
    "# Calculer la moyenne mobile du chiffre d'affaires avec une fenêtre de 7 jours\n",
    "df_merge['moyenne_mobile'] = df_merge['price'].rolling(window=7, min_periods=1).mean()\n",
    "\n",
    "# Afficher le DataFrame avec le chiffre d'affaires et la moyenne mobile\n",
    "display(df_merge.head(10))\n",
    "# Création du graphique\n",
    "plt.figure(figsize=(10, 6))\n",
    "plt.plot(df_merge['date'], df_merge['price'], label='Chiffre d\\'affaires')\n",
    "plt.plot(df_merge['date'], df_merge['moyenne_mobile'], label='Moyenne mobile')\n",
    "plt.xlabel('Date')\n",
    "plt.ylabel('Chiffre d\\'affaires')\n",
    "plt.title('Évolution du chiffre d\\'affaires et de la moyenne mobile')\n",
    "plt.legend()\n",
    "plt.show()"
   ]
  },
  {
   "cell_type": "markdown",
   "metadata": {},
   "source": [
    "<div style=\"border: 1px solid RGB(51,165,182);\" >\n",
    "<h3 style=\"margin: auto; padding: 20px; color: RGB(51,165,182); \">nombre de client par mois</h3>\n",
    "</div>"
   ]
  },
  {
   "cell_type": "code",
   "execution_count": 28,
   "metadata": {},
   "outputs": [
    {
     "data": {
      "text/plain": [
       "mois\n",
       "2021-03    5676\n",
       "2021-04    5674\n",
       "2021-05    5644\n",
       "2021-06    5659\n",
       "2021-07    5672\n",
       "2021-08    5642\n",
       "2021-09    5693\n",
       "2021-10    6190\n",
       "2021-11    5875\n",
       "2021-12    5867\n",
       "Freq: M, Name: client_id, dtype: int64"
      ]
     },
     "metadata": {},
     "output_type": "display_data"
    },
    {
     "data": {
      "image/png": "[encoded data removed]",
      "text/plain": [
       "<Figure size 720x432 with 1 Axes>"
      ]
     },
     "metadata": {
      "needs_background": "light"
     },
     "output_type": "display_data"
    }
   ],
   "source": [
    "df_merge['date'] = pd.to_datetime(df_merge['date'])\n",
    "df_merge['mois'] = df_merge['date'].dt.to_period('M')\n",
    "nb_clients_uniques_par_mois = df_merge.groupby('mois')['client_id'].nunique()\n",
    "display(nb_clients_uniques_par_mois.head(10))\n",
    "\n",
    "# Créer le graphique en courbe\n",
    "fig, ax = plt.subplots(figsize=(10, 6))  # Définir la taille de la figure\n",
    "ax.plot(nb_clients_uniques_par_mois.index.astype(str), nb_clients_uniques_par_mois.values)\n",
    "ax.set_xlabel('Mois')\n",
    "ax.set_ylabel('Nombre de clients uniques')\n",
    "ax.set_title('Évolution du nombre de clients uniques par mois')\n",
    "ax.set_xticklabels(nb_clients_uniques_par_mois.index.astype(str), rotation=45, ha='right')\n",
    "plt.show()"
   ]
  },
  {
   "cell_type": "markdown",
   "metadata": {},
   "source": [
    "<div style=\"border: 1px solid RGB(51,165,182);\" >\n",
    "<h3 style=\"margin: auto; padding: 20px; color: RGB(51,165,182); \">nombre de transaction par mois</h3>\n",
    "</div>"
   ]
  },
  {
   "cell_type": "code",
   "execution_count": 29,
   "metadata": {},
   "outputs": [
    {
     "name": "stdout",
     "output_type": "stream",
     "text": [
      "mois\n",
      "2021-03    28601\n",
      "2021-04    28443\n",
      "2021-05    28285\n",
      "2021-06    26850\n",
      "2021-07    24738\n",
      "2021-08    25650\n",
      "2021-09    33314\n",
      "2021-10    30022\n",
      "2021-11    28311\n",
      "2021-12    32457\n",
      "Freq: M, dtype: int64\n"
     ]
    },
    {
     "data": {
      "image/png": "[encoded data removed]",
      "text/plain": [
       "<Figure size 720x432 with 1 Axes>"
      ]
     },
     "metadata": {
      "needs_background": "light"
     },
     "output_type": "display_data"
    }
   ],
   "source": [
    "df_merge['date'] = pd.to_datetime(df_merge['date'])\n",
    "df_merge['mois'] = df_merge['date'].dt.to_period('M')\n",
    "nb_transactions_par_mois = df_merge.groupby('mois').size()\n",
    "print(nb_transactions_par_mois.head(10))\n",
    "## graphique\n",
    "# Créer le graphique en courbe\n",
    "df_merge['mois_str'] = df_merge['mois'].astype(str)\n",
    "nb_transactions_par_mois = df_merge.groupby('mois_str').size()\n",
    "fig, ax = plt.subplots(figsize=(10, 6))\n",
    "ax.plot(nb_transactions_par_mois.index, nb_transactions_par_mois.values)\n",
    "ax.set_xlabel('Mois')\n",
    "ax.set_ylabel('Nombre de transactions')\n",
    "ax.set_title('Évolution du nombre de transactions par mois')\n",
    "ax.set_xticklabels(nb_transactions_par_mois.index, rotation=45, ha='right')\n",
    "plt.show()"
   ]
  },
  {
   "cell_type": "markdown",
   "metadata": {},
   "source": [
    "<div style=\"border: 1px solid RGB(51,165,182);\" >\n",
    "<h3 style=\"margin: auto; padding: 20px; color: RGB(51,165,182); \">nombre de produits vendus par mois</h3>\n",
    "</div>"
   ]
  },
  {
   "cell_type": "code",
   "execution_count": 31,
   "metadata": {
    "scrolled": false
   },
   "outputs": [
    {
     "data": {
      "image/png": "[encoded data removed]",
      "text/plain": [
       "<Figure size 720x432 with 1 Axes>"
      ]
     },
     "metadata": {
      "needs_background": "light"
     },
     "output_type": "display_data"
    },
    {
     "name": "stdout",
     "output_type": "stream",
     "text": [
      "      mois id_prod  nombre_produits_vendus\n",
      "0  2021-03     0_0                      40\n",
      "1  2021-03     0_1                      17\n",
      "2  2021-03    0_10                       2\n",
      "3  2021-03  0_1000                      19\n",
      "4  2021-03  0_1001                      21\n",
      "5  2021-03  0_1002                      26\n",
      "6  2021-03  0_1003                      15\n",
      "7  2021-03  0_1004                      21\n",
      "8  2021-03  0_1007                      16\n",
      "9  2021-03  0_1008                      14\n",
      "   id_prod  nombre_produits_vendus\n",
      "0      0_0                      40\n",
      "10  0_1009                      30\n",
      "5   0_1002                      26\n",
      "18  0_1023                      25\n",
      "12  0_1013                      25\n",
      "13  0_1015                      23\n",
      "17  0_1021                      22\n",
      "11  0_1011                      21\n",
      "4   0_1001                      21\n",
      "7   0_1004                      21\n",
      "15  0_1018                      21\n",
      "3   0_1000                      19\n",
      "16  0_1020                      19\n",
      "1      0_1                      17\n",
      "14  0_1017                      17\n",
      "8   0_1007                      16\n",
      "6   0_1003                      15\n",
      "9   0_1008                      14\n",
      "19  0_1026                      12\n",
      "2     0_10                       2\n",
      "      id_prod  nombre_produits_vendus\n",
      "29554    2_53                       1\n",
      "23679   0_702                       1\n",
      "23676   0_692                       1\n",
      "23674   0_689                       1\n",
      "23673   0_686                       1\n",
      "23672   0_684                       1\n",
      "23671   0_683                       1\n",
      "23670   0_682                       1\n",
      "23682   0_709                       1\n",
      "23668    0_68                       1\n",
      "23666   0_676                       1\n",
      "23660   0_668                       1\n",
      "23655   0_661                       1\n",
      "23648   0_650                       1\n",
      "23647    0_65                       1\n",
      "23645   0_648                       1\n",
      "23643   0_645                       1\n",
      "23667   0_678                       1\n",
      "23640   0_641                       1\n",
      "23683    0_71                       1\n"
     ]
    },
    {
     "data": {
      "image/png": "[encoded data removed]",
      "text/plain": [
       "<Figure size 432x288 with 1 Axes>"
      ]
     },
     "metadata": {
      "needs_background": "light"
     },
     "output_type": "display_data"
    }
   ],
   "source": [
    "df_merge['date'] = pd.to_datetime(df_merge['date'])\n",
    "df_merge['mois'] = df_merge['date'].dt.to_period('M')\n",
    "# Créer un dataframe avec le nombre de produits uniques vendus par mois\n",
    "produits_uniques_vendus_par_mois = df_merge.groupby('mois_str')['id_prod'].nunique()\n",
    "\n",
    "# Créer le graphique en courbe\n",
    "fig, ax = plt.subplots(figsize=(10, 6))  # Définir la taille de la figure\n",
    "ax.plot(produits_uniques_vendus_par_mois.index, produits_uniques_vendus_par_mois.values)\n",
    "ax.set_xlabel('Mois')\n",
    "ax.set_ylabel('Nombre de produits uniques vendus')\n",
    "ax.set_title('Évolution du nombre de produits uniques vendus par mois')\n",
    "ax.set_xticklabels(produits_uniques_vendus_par_mois.index, rotation=45, ha='right')\n",
    "plt.show()\n",
    "\n",
    "produits_vendus_par_mois = df_merge.groupby(['mois', 'id_prod']).size().reset_index(name='nombre_produits_vendus')\n",
    "print(produits_vendus_par_mois.head(10))\n",
    "top_20_produits = produits_vendus_par_mois.head(20)\n",
    "top_20_produits = top_20_produits.sort_values('nombre_produits_vendus', ascending=False)\n",
    "print(top_20_produits[['id_prod', 'nombre_produits_vendus']])\n",
    "\n",
    "# Création du graphique en barres avec tri décroissant\n",
    "\n",
    "plt.bar(range(len(top_20_produits)), top_20_produits['nombre_produits_vendus'])\n",
    "plt.xlabel('Articles')\n",
    "plt.ylabel('Nombre de ventes')\n",
    "plt.title('Top 20 des produits les plus vendus')\n",
    "plt.xticks(range(len(top_20_produits)), top_20_produits['id_prod'], rotation='vertical')\n",
    "\n",
    "\n",
    "\n",
    "## flop 20 des produits les plus vendus\n",
    "produits_vendus_par_mois = produits_vendus_par_mois.sort_values('nombre_produits_vendus', ascending=True)\n",
    "flop_20_produits = produits_vendus_par_mois.head(20)\n",
    "print(flop_20_produits[['id_prod', 'nombre_produits_vendus']])\n"
   ]
  },
  {
   "cell_type": "markdown",
   "metadata": {},
   "source": [
    "<div style=\"border: 1px solid RGB(51,165,182);\" >\n",
    "<h3 style=\"margin: auto; padding: 20px; color: RGB(51,165,182); \">CA par mois</h3>\n",
    "</div>"
   ]
  },
  {
   "cell_type": "code",
   "execution_count": 32,
   "metadata": {},
   "outputs": [
    {
     "data": {
      "text/html": [
       "<div>\n",
       "<style scoped>\n",
       "    .dataframe tbody tr th:only-of-type {\n",
       "        vertical-align: middle;\n",
       "    }\n",
       "\n",
       "    .dataframe tbody tr th {\n",
       "        vertical-align: top;\n",
       "    }\n",
       "\n",
       "    .dataframe thead th {\n",
       "        text-align: right;\n",
       "    }\n",
       "</style>\n",
       "<table border=\"1\" class=\"dataframe\">\n",
       "  <thead>\n",
       "    <tr style=\"text-align: right;\">\n",
       "      <th></th>\n",
       "      <th>mois</th>\n",
       "      <th>categ</th>\n",
       "      <th>price</th>\n",
       "    </tr>\n",
       "  </thead>\n",
       "  <tbody>\n",
       "  </tbody>\n",
       "</table>\n",
       "</div>"
      ],
      "text/plain": [
       "Empty DataFrame\n",
       "Columns: [mois, categ, price]\n",
       "Index: []"
      ]
     },
     "metadata": {},
     "output_type": "display_data"
    },
    {
     "data": {
      "image/png": "[encoded data removed]",
      "text/plain": [
       "<Figure size 720x432 with 1 Axes>"
      ]
     },
     "metadata": {
      "needs_background": "light"
     },
     "output_type": "display_data"
    }
   ],
   "source": [
    "import numpy as np\n",
    "import matplotlib.pyplot as plt\n",
    "\n",
    "# Convertir la colonne 'date' en format de date\n",
    "df_merge['date'] = pd.to_datetime(df_merge['date'])\n",
    "df_merge['mois'] = df_merge['date'].dt.to_period('M')\n",
    "\n",
    "# Calculer le chiffre d'affaires par mois et par catégorie\n",
    "tab_CA_par_mois_categorie = df_merge.groupby(['mois', 'categ'])['price'].sum().reset_index()\n",
    "mois_CA_0 = tab_CA_par_mois_categorie[tab_CA_par_mois_categorie['price'] == 0]\n",
    "display(mois_CA_0)\n",
    "\n",
    "# Créer le graphique en courbes\n",
    "fig, ax = plt.subplots(figsize=(10, 6))\n",
    "\n",
    "# Parcourir chaque catégorie pour tracer la courbe correspondante\n",
    "categories = tab_CA_par_mois_categorie['categ'].unique()\n",
    "for categorie in categories:\n",
    "    ca_par_mois_categorie = tab_CA_par_mois_categorie[tab_CA_par_mois_categorie['categ'] == categorie]\n",
    "    ax.plot(ca_par_mois_categorie['mois'].astype(str), ca_par_mois_categorie['price'], label=categorie)\n",
    "\n",
    "# Calculer le chiffre d'affaires total par mois\n",
    "chiffre_affaires_total = df_merge.groupby('mois')['price'].sum().reset_index()\n",
    "\n",
    "# Ajouter la courbe du chiffre d'affaires global\n",
    "ax.plot(chiffre_affaires_total['mois'].astype(str), chiffre_affaires_total['price'], label='Chiffre d\\'affaires global')\n",
    "\n",
    "ax.set_xlabel('Mois')\n",
    "ax.set_ylabel('Chiffre d\\'affaires')\n",
    "ax.set_title('Évolution du CA par mois et par catégorie')\n",
    "ax.legend()\n",
    "ax.set_xticklabels(df_merge['mois'].dt.strftime('%Y-%m').unique(), rotation=45, ha='right')\n",
    "\n",
    "plt.show()"
   ]
  },
  {
   "cell_type": "markdown",
   "metadata": {},
   "source": [
    "<div style=\"border: 1px solid RGB(51,165,182);\" >\n",
    "<h3 style=\"margin: auto; padding: 20px; color: RGB(51,165,182); \">client BtoB</h3>\n",
    "    Pour retrouver ces clients j'ai pris les clients ayant le plus de transaction et de CA\n",
    "</div>"
   ]
  },
  {
   "cell_type": "code",
   "execution_count": 34,
   "metadata": {},
   "outputs": [
    {
     "name": "stdout",
     "output_type": "stream",
     "text": [
      "client_id\n",
      "c_1609    326039.89\n",
      "c_4958    290227.03\n",
      "c_6714    153918.60\n",
      "c_3454    114110.57\n",
      "Name: price, dtype: float64\n",
      "c_1609    25586\n",
      "c_6714     9199\n",
      "c_3454     6793\n",
      "c_4958     5222\n",
      "Name: client_id, dtype: int64\n",
      "595242.1099999507\n",
      "12027663.099999933\n",
      "Le ratio entre le chiffre d'affaires cumulé des 4 clients spécifiques et la totalité du chiffre d'affaires est : 5.0 %\n"
     ]
    }
   ],
   "source": [
    "top_clients_chiffre_affaires = df_merge.groupby('client_id')['price'].sum().nlargest(4)\n",
    "top_clients_transactions = df_merge['client_id'].value_counts().nlargest(4)\n",
    "print(top_clients_chiffre_affaires)\n",
    "print(top_clients_transactions)\n",
    "# ratio chiffre d'affaires client BtoB ar rapport au CA global\n",
    "# Calculer le chiffre d'affaires cumulé des 4 clients spécifiques\n",
    "chiffre_affaires_clients = df_merge.groupby('client_id')['price'].sum()\n",
    "chiffre_affaires_4_clients = chiffre_affaires_clients.loc[['c_1609', 'c_4985', 'c_6714', 'c_3454']].sum()\n",
    "\n",
    "# Calculer la somme de tous les chiffres d'affaires\n",
    "chiffre_affaires_total = chiffre_affaires_clients.sum()\n",
    "print(chiffre_affaires_4_clients)\n",
    "print(chiffre_affaires_clients.sum())\n",
    "# Calculer le ratio\n",
    "ratio = chiffre_affaires_4_clients / chiffre_affaires_total\n",
    "ratio_en_pourcentage_arrondi = round(ratio, 2)*100\n",
    "\n",
    "print(\"Le ratio entre le chiffre d'affaires cumulé des 4 clients spécifiques et la totalité du chiffre d'affaires est :\", ratio_en_pourcentage_arrondi, \"%\")\n"
   ]
  },
  {
   "cell_type": "markdown",
   "metadata": {},
   "source": [
    "<div style=\"border: 1px solid RGB(51,165,182);\" >\n",
    "<h3 style=\"margin: auto; padding: 20px; color: RGB(51,165,182); \">Repartition des produits par catégorie</h3>\n",
    "</div>"
   ]
  },
  {
   "cell_type": "code",
   "execution_count": 35,
   "metadata": {},
   "outputs": [
    {
     "data": {
      "image/png": "[encoded data removed]",
      "text/plain": [
       "<Figure size 720x432 with 1 Axes>"
      ]
     },
     "metadata": {
      "needs_background": "light"
     },
     "output_type": "display_data"
    }
   ],
   "source": [
    "import pandas as pd\n",
    "import matplotlib.pyplot as plt\n",
    "\n",
    "# 1. Fusionner les dataframes df_transactions et df_products\n",
    "df_merged = pd.merge(df_transactions, df_products, on='id_prod')\n",
    "\n",
    "# 2. Convertir la colonne 'date' en format de date et extraire le mois\n",
    "df_merged['date'] = pd.to_datetime(df_merged['date'])\n",
    "df_merged['month'] = df_merged['date'].dt.month\n",
    "\n",
    "# 3. Grouper les données par mois et catégorie, puis calculer le chiffre d'affaires par mois\n",
    "revenues = df_merged.groupby(['month', 'categ'])['price'].sum().reset_index()\n",
    "\n",
    "# 4. Créer un dataframe pivoté pour le graphique en barres\n",
    "revenues_pivot = revenues.pivot_table(index='month', columns='categ', values='price', fill_value=0)\n",
    "\n",
    "# 5. Agrandir le graphique en définissant la taille de la figure et en ajustant les paramètres\n",
    "fig, ax = plt.subplots(figsize=(10, 6))  # Définir la taille de la figure\n",
    "\n",
    "# 6. Créer le graphique en barres\n",
    "revenues_pivot.plot(kind='bar', ax=ax)\n",
    "plt.xlabel('Mois')\n",
    "plt.ylabel('Chiffre d\\'affaires')\n",
    "plt.title('Répartition des produits par catégorie')\n",
    "plt.legend(title='Catégorie')\n",
    "\n",
    "# 7. Afficher le graphique agrandi\n",
    "plt.tight_layout()  # Ajuster la disposition du graphique\n",
    "plt.show()"
   ]
  },
  {
   "cell_type": "markdown",
   "metadata": {},
   "source": [
    "<div style=\"border: 1px solid RGB(51,165,182);\" >\n",
    "<h3 style=\"margin: auto; padding: 20px; color: RGB(51,165,182); \">Corrélation entre genre et categorie</h3>\n",
    "</div>"
   ]
  },
  {
   "cell_type": "code",
   "execution_count": 36,
   "metadata": {},
   "outputs": [
    {
     "data": {
      "image/png": "[encoded data removed]",
      "text/plain": [
       "<Figure size 432x288 with 2 Axes>"
      ]
     },
     "metadata": {
      "needs_background": "light"
     },
     "output_type": "display_data"
    }
   ],
   "source": [
    "import pandas as pd\n",
    "import seaborn as sns\n",
    "import matplotlib.pyplot as plt\n",
    "# Ajout de la colonne age\n",
    "df_customers['birth'] = pd.to_numeric(df_customers['birth'])\n",
    "\n",
    "# Calculate age using birth year and current year\n",
    "current_year = 2021\n",
    "df_customers['age'] = current_year - df_customers['birth']\n",
    "\n",
    "# Effectuer la fusion entre df_merge et df_customers par la colonne 'client_id'\n",
    "df_merged = pd.merge(df_merge, df_customers[['client_id', 'age']], on='client_id', how='left')\n",
    "\n",
    "# Calculer la corrélation entre l'âge et la catégorie de livres achetés\n",
    "correlation_matrix = df_merged[['age', 'categ']].corr()\n",
    "\n",
    "# Afficher le graphique de corrélation\n",
    "sns.heatmap(correlation_matrix, annot=True, cmap='coolwarm')\n",
    "plt.title(\"Corrélation entre l'âge et la catégorie de livres achetés\")\n",
    "plt.show()"
   ]
  },
  {
   "cell_type": "markdown",
   "metadata": {},
   "source": [
    "<div style=\"border: 1px solid RGB(51,165,182);\" >\n",
    "<h3 style=\"margin: auto; padding: 20px; color: RGB(51,165,182); \">Corrélation entre genre et ca</h3>\n",
    "</div>"
   ]
  },
  {
   "cell_type": "code",
   "execution_count": 38,
   "metadata": {},
   "outputs": [
    {
     "name": "stdout",
     "output_type": "stream",
     "text": [
      "Coefficient de corrélation de Pearson entre l'âge du client et le chiffre d'affaires : 0.0013946527563302837\n"
     ]
    },
    {
     "data": {
      "text/html": [
       "<div>\n",
       "<style scoped>\n",
       "    .dataframe tbody tr th:only-of-type {\n",
       "        vertical-align: middle;\n",
       "    }\n",
       "\n",
       "    .dataframe tbody tr th {\n",
       "        vertical-align: top;\n",
       "    }\n",
       "\n",
       "    .dataframe thead th {\n",
       "        text-align: right;\n",
       "    }\n",
       "</style>\n",
       "<table border=\"1\" class=\"dataframe\">\n",
       "  <thead>\n",
       "    <tr style=\"text-align: right;\">\n",
       "      <th></th>\n",
       "      <th>client_id</th>\n",
       "      <th>sex</th>\n",
       "      <th>birth</th>\n",
       "      <th>age</th>\n",
       "      <th>id_prod</th>\n",
       "      <th>date</th>\n",
       "      <th>session_id</th>\n",
       "      <th>price</th>\n",
       "      <th>categ</th>\n",
       "    </tr>\n",
       "  </thead>\n",
       "  <tbody>\n",
       "    <tr>\n",
       "      <th>0</th>\n",
       "      <td>c_4410</td>\n",
       "      <td>f</td>\n",
       "      <td>1967</td>\n",
       "      <td>54</td>\n",
       "      <td>1_483</td>\n",
       "      <td>2021-03-13 21:35:55.949042</td>\n",
       "      <td>s_5913</td>\n",
       "      <td>15.99</td>\n",
       "      <td>1</td>\n",
       "    </tr>\n",
       "    <tr>\n",
       "      <th>1</th>\n",
       "      <td>c_4410</td>\n",
       "      <td>f</td>\n",
       "      <td>1967</td>\n",
       "      <td>54</td>\n",
       "      <td>1_483</td>\n",
       "      <td>2022-03-13 21:35:55.949042</td>\n",
       "      <td>s_178686</td>\n",
       "      <td>15.99</td>\n",
       "      <td>1</td>\n",
       "    </tr>\n",
       "    <tr>\n",
       "      <th>2</th>\n",
       "      <td>c_4410</td>\n",
       "      <td>f</td>\n",
       "      <td>1967</td>\n",
       "      <td>54</td>\n",
       "      <td>1_483</td>\n",
       "      <td>2022-05-13 21:35:55.949042</td>\n",
       "      <td>s_208054</td>\n",
       "      <td>15.99</td>\n",
       "      <td>1</td>\n",
       "    </tr>\n",
       "    <tr>\n",
       "      <th>3</th>\n",
       "      <td>c_6446</td>\n",
       "      <td>m</td>\n",
       "      <td>1971</td>\n",
       "      <td>50</td>\n",
       "      <td>1_483</td>\n",
       "      <td>2021-10-21 16:09:28.332092</td>\n",
       "      <td>s_109855</td>\n",
       "      <td>15.99</td>\n",
       "      <td>1</td>\n",
       "    </tr>\n",
       "    <tr>\n",
       "      <th>4</th>\n",
       "      <td>c_7049</td>\n",
       "      <td>f</td>\n",
       "      <td>1987</td>\n",
       "      <td>34</td>\n",
       "      <td>1_483</td>\n",
       "      <td>2021-10-02 00:06:53.783104</td>\n",
       "      <td>s_100270</td>\n",
       "      <td>15.99</td>\n",
       "      <td>1</td>\n",
       "    </tr>\n",
       "    <tr>\n",
       "      <th>...</th>\n",
       "      <td>...</td>\n",
       "      <td>...</td>\n",
       "      <td>...</td>\n",
       "      <td>...</td>\n",
       "      <td>...</td>\n",
       "      <td>...</td>\n",
       "      <td>...</td>\n",
       "      <td>...</td>\n",
       "      <td>...</td>\n",
       "    </tr>\n",
       "    <tr>\n",
       "      <th>687529</th>\n",
       "      <td>c_8138</td>\n",
       "      <td>f</td>\n",
       "      <td>1984</td>\n",
       "      <td>37</td>\n",
       "      <td>0_394</td>\n",
       "      <td>2021-11-09 09:02:38.299240</td>\n",
       "      <td>s_116986</td>\n",
       "      <td>2.14</td>\n",
       "      <td>0</td>\n",
       "    </tr>\n",
       "    <tr>\n",
       "      <th>687530</th>\n",
       "      <td>c_8138</td>\n",
       "      <td>f</td>\n",
       "      <td>1984</td>\n",
       "      <td>37</td>\n",
       "      <td>0_394</td>\n",
       "      <td>2022-03-09 09:02:38.299240</td>\n",
       "      <td>s_176587</td>\n",
       "      <td>2.14</td>\n",
       "      <td>0</td>\n",
       "    </tr>\n",
       "    <tr>\n",
       "      <th>687531</th>\n",
       "      <td>c_8138</td>\n",
       "      <td>f</td>\n",
       "      <td>1984</td>\n",
       "      <td>37</td>\n",
       "      <td>0_394</td>\n",
       "      <td>2022-08-09 09:02:38.299240</td>\n",
       "      <td>s_250653</td>\n",
       "      <td>2.14</td>\n",
       "      <td>0</td>\n",
       "    </tr>\n",
       "    <tr>\n",
       "      <th>687532</th>\n",
       "      <td>c_8327</td>\n",
       "      <td>m</td>\n",
       "      <td>1972</td>\n",
       "      <td>49</td>\n",
       "      <td>0_394</td>\n",
       "      <td>2021-12-28 22:44:11.200205</td>\n",
       "      <td>s_141516</td>\n",
       "      <td>2.14</td>\n",
       "      <td>0</td>\n",
       "    </tr>\n",
       "    <tr>\n",
       "      <th>687533</th>\n",
       "      <td>c_8327</td>\n",
       "      <td>m</td>\n",
       "      <td>1972</td>\n",
       "      <td>49</td>\n",
       "      <td>0_394</td>\n",
       "      <td>2022-06-28 22:44:11.200205</td>\n",
       "      <td>s_230707</td>\n",
       "      <td>2.14</td>\n",
       "      <td>0</td>\n",
       "    </tr>\n",
       "  </tbody>\n",
       "</table>\n",
       "<p>687534 rows × 9 columns</p>\n",
       "</div>"
      ],
      "text/plain": [
       "       client_id sex  birth  age id_prod                        date  \\\n",
       "0         c_4410   f   1967   54   1_483  2021-03-13 21:35:55.949042   \n",
       "1         c_4410   f   1967   54   1_483  2022-03-13 21:35:55.949042   \n",
       "2         c_4410   f   1967   54   1_483  2022-05-13 21:35:55.949042   \n",
       "3         c_6446   m   1971   50   1_483  2021-10-21 16:09:28.332092   \n",
       "4         c_7049   f   1987   34   1_483  2021-10-02 00:06:53.783104   \n",
       "...          ...  ..    ...  ...     ...                         ...   \n",
       "687529    c_8138   f   1984   37   0_394  2021-11-09 09:02:38.299240   \n",
       "687530    c_8138   f   1984   37   0_394  2022-03-09 09:02:38.299240   \n",
       "687531    c_8138   f   1984   37   0_394  2022-08-09 09:02:38.299240   \n",
       "687532    c_8327   m   1972   49   0_394  2021-12-28 22:44:11.200205   \n",
       "687533    c_8327   m   1972   49   0_394  2022-06-28 22:44:11.200205   \n",
       "\n",
       "       session_id  price  categ  \n",
       "0          s_5913  15.99      1  \n",
       "1        s_178686  15.99      1  \n",
       "2        s_208054  15.99      1  \n",
       "3        s_109855  15.99      1  \n",
       "4        s_100270  15.99      1  \n",
       "...           ...    ...    ...  \n",
       "687529   s_116986   2.14      0  \n",
       "687530   s_176587   2.14      0  \n",
       "687531   s_250653   2.14      0  \n",
       "687532   s_141516   2.14      0  \n",
       "687533   s_230707   2.14      0  \n",
       "\n",
       "[687534 rows x 9 columns]"
      ]
     },
     "metadata": {},
     "output_type": "display_data"
    }
   ],
   "source": [
    "# Jointure des dataframes df_customers, df_transactions et df_products\n",
    "df_merged = pd.merge(df_customers, df_transactions, on='client_id', how='inner')\n",
    "df_merged = pd.merge(df_merged, df_products, on='id_prod', how='inner')\n",
    "# Calcul du chiffre d'affaires par client\n",
    "df_ca = df_merged.groupby('client_id')['price'].sum().reset_index()\n",
    "df_ca = df_ca.rename(columns={'price': 'CA'})\n",
    "# Calcul de la corrélation entre l'âge du client et le montant du chiffre d'affaires (CA)\n",
    "correlation = df_customers['age'].corr(df_ca['CA'])\n",
    "# Affichage du résultat\n",
    "print(\"Coefficient de corrélation de Pearson entre l'âge du client et le chiffre d'affaires :\", correlation)\n",
    "display (df_merged)"
   ]
  },
  {
   "cell_type": "markdown",
   "metadata": {},
   "source": [
    "<div style=\"border: 1px solid RGB(51,165,182);\" >\n",
    "<h3 style=\"margin: auto; padding: 20px; color: RGB(51,165,182); \">Corrélation entre l'age et la frequence d'achat</h3>\n",
    "</div>"
   ]
  },
  {
   "cell_type": "code",
   "execution_count": 40,
   "metadata": {},
   "outputs": [
    {
     "name": "stdout",
     "output_type": "stream",
     "text": [
      "Coefficient de corrélation de Pearson entre l'âge du client et la fréquence des transactions : 0.007743265640795426\n"
     ]
    }
   ],
   "source": [
    "df_panier_moyen = df_merged.groupby('client_id')['price'].sum().reset_index()\n",
    "df_transactions_count = df_merged.groupby('client_id')['id_prod'].count().reset_index()\n",
    "df_panier_moyen['transactions_count'] = df_transactions_count['id_prod']\n",
    "df_panier_moyen['panier_moyen'] = df_panier_moyen['price'] / df_panier_moyen['transactions_count']\n",
    "correlation = df_customers['age'].corr(df_panier_moyen['transactions_count'])\n",
    "print(\"Coefficient de corrélation de Pearson entre l'âge du client et la fréquence des transactions :\", correlation)"
   ]
  },
  {
   "cell_type": "markdown",
   "metadata": {},
   "source": [
    "<div style=\"border: 1px solid RGB(51,165,182);\" >\n",
    "<h3 style=\"margin: auto; padding: 20px; color: RGB(51,165,182); \">recherche valeur aberrante en age et en prix</h3>\n",
    "</div>"
   ]
  },
  {
   "cell_type": "code",
   "execution_count": 41,
   "metadata": {},
   "outputs": [
    {
     "name": "stdout",
     "output_type": "stream",
     "text": [
      "Valeurs aberrantes détectées :\n"
     ]
    },
    {
     "data": {
      "text/html": [
       "<div>\n",
       "<style scoped>\n",
       "    .dataframe tbody tr th:only-of-type {\n",
       "        vertical-align: middle;\n",
       "    }\n",
       "\n",
       "    .dataframe tbody tr th {\n",
       "        vertical-align: top;\n",
       "    }\n",
       "\n",
       "    .dataframe thead th {\n",
       "        text-align: right;\n",
       "    }\n",
       "</style>\n",
       "<table border=\"1\" class=\"dataframe\">\n",
       "  <thead>\n",
       "    <tr style=\"text-align: right;\">\n",
       "      <th></th>\n",
       "      <th>client_id</th>\n",
       "      <th>sex</th>\n",
       "      <th>birth</th>\n",
       "      <th>age</th>\n",
       "      <th>id_prod</th>\n",
       "      <th>date</th>\n",
       "      <th>session_id</th>\n",
       "      <th>price</th>\n",
       "      <th>categ</th>\n",
       "    </tr>\n",
       "  </thead>\n",
       "  <tbody>\n",
       "    <tr>\n",
       "      <th>23</th>\n",
       "      <td>c_5113</td>\n",
       "      <td>m</td>\n",
       "      <td>1951</td>\n",
       "      <td>70</td>\n",
       "      <td>1_483</td>\n",
       "      <td>2021-07-16 09:53:04.131744</td>\n",
       "      <td>s_63014</td>\n",
       "      <td>15.99</td>\n",
       "      <td>1</td>\n",
       "    </tr>\n",
       "    <tr>\n",
       "      <th>33</th>\n",
       "      <td>c_6468</td>\n",
       "      <td>m</td>\n",
       "      <td>1942</td>\n",
       "      <td>79</td>\n",
       "      <td>1_483</td>\n",
       "      <td>2021-12-07 18:02:47.494835</td>\n",
       "      <td>s_130880</td>\n",
       "      <td>15.99</td>\n",
       "      <td>1</td>\n",
       "    </tr>\n",
       "    <tr>\n",
       "      <th>34</th>\n",
       "      <td>c_6468</td>\n",
       "      <td>m</td>\n",
       "      <td>1942</td>\n",
       "      <td>79</td>\n",
       "      <td>1_483</td>\n",
       "      <td>2022-06-07 18:02:47.494835</td>\n",
       "      <td>s_220296</td>\n",
       "      <td>15.99</td>\n",
       "      <td>1</td>\n",
       "    </tr>\n",
       "    <tr>\n",
       "      <th>35</th>\n",
       "      <td>c_6468</td>\n",
       "      <td>m</td>\n",
       "      <td>1942</td>\n",
       "      <td>79</td>\n",
       "      <td>1_483</td>\n",
       "      <td>2022-08-07 18:02:47.494835</td>\n",
       "      <td>s_249847</td>\n",
       "      <td>15.99</td>\n",
       "      <td>1</td>\n",
       "    </tr>\n",
       "    <tr>\n",
       "      <th>36</th>\n",
       "      <td>c_6468</td>\n",
       "      <td>m</td>\n",
       "      <td>1942</td>\n",
       "      <td>79</td>\n",
       "      <td>1_483</td>\n",
       "      <td>2022-12-07 18:02:47.494835</td>\n",
       "      <td>s_308523</td>\n",
       "      <td>15.99</td>\n",
       "      <td>1</td>\n",
       "    </tr>\n",
       "    <tr>\n",
       "      <th>...</th>\n",
       "      <td>...</td>\n",
       "      <td>...</td>\n",
       "      <td>...</td>\n",
       "      <td>...</td>\n",
       "      <td>...</td>\n",
       "      <td>...</td>\n",
       "      <td>...</td>\n",
       "      <td>...</td>\n",
       "      <td>...</td>\n",
       "    </tr>\n",
       "    <tr>\n",
       "      <th>687445</th>\n",
       "      <td>c_87</td>\n",
       "      <td>m</td>\n",
       "      <td>1949</td>\n",
       "      <td>72</td>\n",
       "      <td>1_136</td>\n",
       "      <td>2022-12-02 08:35:12.361418</td>\n",
       "      <td>s_305957</td>\n",
       "      <td>31.72</td>\n",
       "      <td>1</td>\n",
       "    </tr>\n",
       "    <tr>\n",
       "      <th>687472</th>\n",
       "      <td>c_2119</td>\n",
       "      <td>f</td>\n",
       "      <td>1943</td>\n",
       "      <td>78</td>\n",
       "      <td>0_1459</td>\n",
       "      <td>2022-01-21 00:48:09.009192</td>\n",
       "      <td>s_152841</td>\n",
       "      <td>0.99</td>\n",
       "      <td>0</td>\n",
       "    </tr>\n",
       "    <tr>\n",
       "      <th>687473</th>\n",
       "      <td>c_2119</td>\n",
       "      <td>f</td>\n",
       "      <td>1943</td>\n",
       "      <td>78</td>\n",
       "      <td>0_1459</td>\n",
       "      <td>2023-02-21 00:48:09.009192</td>\n",
       "      <td>s_344613</td>\n",
       "      <td>0.99</td>\n",
       "      <td>0</td>\n",
       "    </tr>\n",
       "    <tr>\n",
       "      <th>687486</th>\n",
       "      <td>c_1063</td>\n",
       "      <td>m</td>\n",
       "      <td>1939</td>\n",
       "      <td>82</td>\n",
       "      <td>0_1670</td>\n",
       "      <td>2021-09-21 15:03:28.664989</td>\n",
       "      <td>s_93276</td>\n",
       "      <td>23.59</td>\n",
       "      <td>0</td>\n",
       "    </tr>\n",
       "    <tr>\n",
       "      <th>687487</th>\n",
       "      <td>c_1063</td>\n",
       "      <td>m</td>\n",
       "      <td>1939</td>\n",
       "      <td>82</td>\n",
       "      <td>0_1670</td>\n",
       "      <td>2022-09-21 15:03:28.664989</td>\n",
       "      <td>s_271363</td>\n",
       "      <td>23.59</td>\n",
       "      <td>0</td>\n",
       "    </tr>\n",
       "  </tbody>\n",
       "</table>\n",
       "<p>49466 rows × 9 columns</p>\n",
       "</div>"
      ],
      "text/plain": [
       "       client_id sex  birth  age id_prod                        date  \\\n",
       "23        c_5113   m   1951   70   1_483  2021-07-16 09:53:04.131744   \n",
       "33        c_6468   m   1942   79   1_483  2021-12-07 18:02:47.494835   \n",
       "34        c_6468   m   1942   79   1_483  2022-06-07 18:02:47.494835   \n",
       "35        c_6468   m   1942   79   1_483  2022-08-07 18:02:47.494835   \n",
       "36        c_6468   m   1942   79   1_483  2022-12-07 18:02:47.494835   \n",
       "...          ...  ..    ...  ...     ...                         ...   \n",
       "687445      c_87   m   1949   72   1_136  2022-12-02 08:35:12.361418   \n",
       "687472    c_2119   f   1943   78  0_1459  2022-01-21 00:48:09.009192   \n",
       "687473    c_2119   f   1943   78  0_1459  2023-02-21 00:48:09.009192   \n",
       "687486    c_1063   m   1939   82  0_1670  2021-09-21 15:03:28.664989   \n",
       "687487    c_1063   m   1939   82  0_1670  2022-09-21 15:03:28.664989   \n",
       "\n",
       "       session_id  price  categ  \n",
       "23        s_63014  15.99      1  \n",
       "33       s_130880  15.99      1  \n",
       "34       s_220296  15.99      1  \n",
       "35       s_249847  15.99      1  \n",
       "36       s_308523  15.99      1  \n",
       "...           ...    ...    ...  \n",
       "687445   s_305957  31.72      1  \n",
       "687472   s_152841   0.99      0  \n",
       "687473   s_344613   0.99      0  \n",
       "687486    s_93276  23.59      0  \n",
       "687487   s_271363  23.59      0  \n",
       "\n",
       "[49466 rows x 9 columns]"
      ]
     },
     "metadata": {},
     "output_type": "display_data"
    },
    {
     "data": {
      "image/png": "[encoded data removed]",
      "text/plain": [
       "<Figure size 720x432 with 1 Axes>"
      ]
     },
     "metadata": {
      "needs_background": "light"
     },
     "output_type": "display_data"
    }
   ],
   "source": [
    "# Calcul de la médiane et de l'écart absolu médian\n",
    "median = df_merged['age'].median()\n",
    "mad = np.median(np.abs(df_merged['age'] - median))\n",
    "\n",
    "# Calcul des seuils d'acceptation\n",
    "threshold = 3\n",
    "lower_threshold = median - (threshold * mad)\n",
    "upper_threshold = median + (threshold * mad)\n",
    "\n",
    "# Identification des valeurs aberrantes\n",
    "outliers = df_merged[(df_merged['age'] < lower_threshold) | (df_merged['age'] > upper_threshold)]\n",
    "\n",
    "# Affichage des valeurs aberrantes\n",
    "print(\"Valeurs aberrantes détectées :\")\n",
    "display(outliers)\n",
    "import seaborn as sns\n",
    "fig, ax = plt.subplots(figsize=(10, 6))\n",
    "# Création d'un boxplot pour la colonne des prix\n",
    "sns.boxplot(x=df_merged['price'])\n",
    "\n",
    "# Affichage du boxplot\n",
    "plt.title(\"Diagramme en boîte des prix\")\n",
    "plt.show()"
   ]
  },
  {
   "cell_type": "code",
   "execution_count": 42,
   "metadata": {},
   "outputs": [
    {
     "data": {
      "image/png": "[encoded data removed]",
      "text/plain": [
       "<Figure size 432x288 with 1 Axes>"
      ]
     },
     "metadata": {
      "needs_background": "light"
     },
     "output_type": "display_data"
    }
   ],
   "source": [
    "import numpy as np\n",
    "import matplotlib.pyplot as plt\n",
    "\n",
    "# Tri des valeurs de prix par ordre croissant\n",
    "sorted_prices = np.sort(df_merged['price'])\n",
    "\n",
    "# Calcul des quantités cumulées\n",
    "cumulative_percentages = np.cumsum(sorted_prices) / np.sum(sorted_prices)\n",
    "\n",
    "# Courbe de Lorenz\n",
    "plt.plot(np.linspace(0, 1, len(cumulative_percentages)), cumulative_percentages, label='Courbe de Lorenz')\n",
    "\n",
    "# Courbe de référence parfaite\n",
    "plt.plot(np.linspace(0, 1, len(cumulative_percentages)), np.linspace(0, 1, len(cumulative_percentages)), label='Distribution parfaite')\n",
    "\n",
    "# Paramètres de la courbe\n",
    "plt.title('Courbe de Lorenz des prix')\n",
    "plt.xlabel('% des données')\n",
    "plt.ylabel('% du total des prix')\n",
    "plt.legend()\n",
    "\n",
    "# Affichage de la courbe de Lorenz\n",
    "plt.show()"
   ]
  },
  {
   "cell_type": "code",
   "execution_count": 43,
   "metadata": {},
   "outputs": [
    {
     "data": {
      "image/png": "[encoded data removed]",
      "text/plain": [
       "<Figure size 720x432 with 1 Axes>"
      ]
     },
     "metadata": {
      "needs_background": "light"
     },
     "output_type": "display_data"
    }
   ],
   "source": [
    "chiffre_affaires_client = df_merge.groupby('client_id')['price'].sum().reset_index()\n",
    "chiffre_affaires_client = chiffre_affaires_client.sort_values('price', ascending=False)\n",
    "chiffre_affaires_cumule = chiffre_affaires_client['price'].cumsum() / chiffre_affaires_client['price'].sum()\n",
    "pourcentage_clients_cumule = np.arange(0, 1, 1/len(chiffre_affaires_cumule))\n",
    "fig, ax = plt.subplots(figsize=(10, 6))\n",
    "ax.plot(pourcentage_clients_cumule, chiffre_affaires_cumule)\n",
    "ax.plot([0, 1], [0, 1], linestyle='--', color='gray')\n",
    "ax.fill_between(pourcentage_clients_cumule, pourcentage_clients_cumule, chiffre_affaires_cumule, alpha=0.5)\n",
    "ax.set_xlabel('Pourcentage cumulé de clients')\n",
    "ax.set_ylabel('Pourcentage cumulé du chiffre d\\'affaires')\n",
    "ax.set_title('Courbe de Lorenz')\n",
    "ax.set_xlim([0, 1])\n",
    "ax.set_ylim([0, 1])\n",
    "plt.show()"
   ]
  },
  {
   "cell_type": "markdown",
   "metadata": {},
   "source": [
    "<div style=\"border: 1px solid RGB(51,165,182);\" >\n",
    "<h3 style=\"margin: auto; padding: 20px; color: RGB(51,165,182); \">valeur statistique khi²</h3>\n",
    "</div>"
   ]
  },
  {
   "cell_type": "code",
   "execution_count": 53,
   "metadata": {},
   "outputs": [
    {
     "name": "stdout",
     "output_type": "stream",
     "text": [
      "    categ     mois  nombre_ventes\n",
      "0       0  2021-03          18131\n",
      "1       0  2021-04          19342\n",
      "2       0  2021-05          18501\n",
      "3       0  2021-06          15898\n",
      "4       0  2021-07          13578\n",
      "..    ...      ...            ...\n",
      "67      2  2022-10           1574\n",
      "68      2  2022-11           1456\n",
      "69      2  2022-12           1621\n",
      "70      2  2023-01           1618\n",
      "71      2  2023-02           1501\n",
      "\n",
      "[72 rows x 3 columns]\n",
      "Statistique du test : 6446.895763111059\n",
      "P-valeur : 0.0\n",
      "Degrés de liberté : 46\n",
      "Fréquences théoriques attendues :\n",
      "[[17282.84398881  9800.48520073  1517.67081046]\n",
      " [17187.36867849  9746.34455314  1509.28676836]\n",
      " [17091.89336818  9692.20390555  1500.90272627]\n",
      " [16224.76001187  9200.483467    1424.75652113]\n",
      " [14948.53307909  8476.78063339  1312.68628751]\n",
      " [15499.63107279  8789.28867518  1361.08025203]\n",
      " [20130.78789703 11415.45274561  1767.75935736]\n",
      " [18141.5175075  10287.40836671  1593.07412579]\n",
      " [17107.6044952   9701.11312604  1502.28237876]\n",
      " [19612.92497971 11121.79113178  1722.28388851]\n",
      " [17731.2153828  10054.74064701  1557.04397019]\n",
      " [17882.88818589 10140.74889096  1570.36292314]\n",
      " [17944.52414571 10175.70044827  1575.77540602]\n",
      " [16679.17414702  9458.16553654  1464.66031644]\n",
      " [18113.11662405 10271.30323737  1590.58013858]\n",
      " [17224.22939956  9767.24695506  1512.52364538]\n",
      " [17324.5389028   9824.12890126  1521.33219594]\n",
      " [17248.4003642   9780.95344812  1514.64618768]\n",
      " [17104.58312462  9699.39981441  1502.01706097]\n",
      " [17502.19549288  9924.87162526  1536.93288186]\n",
      " [17259.8815724   9787.46403232  1515.65439527]\n",
      " [17293.72092289  9806.65312261  1518.6259545 ]\n",
      " [17486.48436586  9915.96240477  1535.55322937]\n",
      " [15436.18229062  8753.30913089  1355.50857848]]\n"
     ]
    }
   ],
   "source": [
    "from scipy.stats import chi2_contingency\n",
    "# Convertir la colonne 'date' en format de date\n",
    "df_merged['date'] = pd.to_datetime(df_merged['date'])\n",
    "\n",
    "# Extrait le mois à partir de la colonne 'date'\n",
    "df_merged['mois'] = df_merged['date'].dt.to_period('M')\n",
    "\n",
    "# Groupement par catégorie de produit et mois, et comptage des ventes\n",
    "ventes_par_categorie = df_merged.groupby(['categ', 'mois']).size().reset_index(name='nombre_ventes')\n",
    "\n",
    "# Affichage du nouveau dataframe\n",
    "print(ventes_par_categorie)\n",
    "# Réorganiser les données en un tableau de contingence\n",
    "tableau_contingence = pd.pivot_table(ventes_par_categorie, values='nombre_ventes', index='mois', columns='categ', fill_value=0)\n",
    "\n",
    "# Application du test du khi²\n",
    "stat, p_value, dof, expected = chi2_contingency(tableau_contingence)\n",
    "\n",
    "# Affichage des résultats\n",
    "print(f\"Statistique du test : {stat}\")\n",
    "print(f\"P-valeur : {p_value}\")\n",
    "print(f\"Degrés de liberté : {dof}\")\n",
    "print(\"Fréquences théoriques attendues :\")\n",
    "print(expected)"
   ]
  },
  {
   "cell_type": "code",
   "execution_count": null,
   "metadata": {},
   "outputs": [],
   "source": []
  }
 ],
 "metadata": {
  "kernelspec": {
   "display_name": "Python 3",
   "language": "python",
   "name": "python3"
  },
  "language_info": {
   "codemirror_mode": {
    "name": "ipython",
    "version": 3
   },
   "file_extension": ".py",
   "mimetype": "text/x-python",
   "name": "python",
   "nbconvert_exporter": "python",
   "pygments_lexer": "ipython3",
   "version": "3.8.3"
  }
 },
 "nbformat": 4,
 "nbformat_minor": 5
}
